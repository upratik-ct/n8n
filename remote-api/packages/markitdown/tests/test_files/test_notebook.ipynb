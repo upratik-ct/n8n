{
 "cells": [
  {
   "cell_type": "markdown",
   "id": "0f61db80",
   "metadata": {},
   "source": [
    "# Test Notebook"
   ]
  },
  {
   "cell_type": "code",
   "execution_count": 11,
   "id": "3f2a5bbd",
   "metadata": {},
   "outputs": [
    {
     "name": "stdout",
     "output_type": "stream",
     "text": [
      "markitdown\n"
     ]
    }
   ],
   "source": [
    "print(\"markitdown\")"
   ]
  },
  {
   "cell_type": "markdown",
   "id": "9b9c0468",
   "metadata": {},
   "source": [
    "## Code Cell Below"
   ]
  },
  {
   "cell_type": "code",
   "execution_count": 10,
   "id": "37d8088a",
   "metadata": {},
   "outputs": [
    {
     "name": "stdout",
     "output_type": "stream",
     "text": [
      "42\n"
     ]
    }
   ],
   "source": [
    "# comment in code\n",
    "print(42)"
   ]
  },
  {
   "cell_type": "markdown",
   "id": "2e3177bd",
   "metadata": {},
   "source": [
    "End\n",
    "\n",
    "---"
   ]
  }
 ],
 "metadata": {
  "kernelspec": {
   "display_name": "Python 3",
   "language": "python",
   "name": "python3"
  },
  "language_info": {
   "codemirror_mode": {
    "name": "ipython",
    "version": 3
   },
   "file_extension": ".py",
   "mimetype": "text/x-python",
   "name": "python",
   "nbconvert_exporter": "python",
   "pygments_lexer": "ipython3",
   "version": "3.12.8"
  },
  "title": "Test Notebook Title"
 },
 "nbformat": 4,
 "nbformat_minor": 5
}
